{
 "cells": [
  {
   "cell_type": "code",
   "execution_count": 1,
   "metadata": {},
   "outputs": [],
   "source": [
    "import pandas as pd\n",
    "import numpy as np\n",
    "import plotly.express as px\n",
    "import matplotlib.pyplot as plt"
   ]
  },
  {
   "cell_type": "code",
   "execution_count": 2,
   "metadata": {},
   "outputs": [],
   "source": [
    "pd.set_option('display.float_format', '{:.2g}'.format)"
   ]
  },
  {
   "cell_type": "code",
   "execution_count": 3,
   "metadata": {},
   "outputs": [],
   "source": [
    "df_formulacao1 = pd.read_excel(\"SOLUTION/2024 04 30 FINAL/formulacao1.xlsx\", engine=\"openpyxl\")\n",
    "df_variaveis = pd.read_excel(\"SOLUTION/2024 04 30 FINAL/variaveis.xlsx\", engine=\"openpyxl\")"
   ]
  },
  {
   "cell_type": "code",
   "execution_count": 4,
   "metadata": {},
   "outputs": [
    {
     "data": {
      "text/html": [
       "<div>\n",
       "<style scoped>\n",
       "    .dataframe tbody tr th:only-of-type {\n",
       "        vertical-align: middle;\n",
       "    }\n",
       "\n",
       "    .dataframe tbody tr th {\n",
       "        vertical-align: top;\n",
       "    }\n",
       "\n",
       "    .dataframe thead th {\n",
       "        text-align: right;\n",
       "    }\n",
       "</style>\n",
       "<table border=\"1\" class=\"dataframe\">\n",
       "  <thead>\n",
       "    <tr style=\"text-align: right;\">\n",
       "      <th></th>\n",
       "      <th>setup_cost_end_products</th>\n",
       "      <th>production_cost_end_products</th>\n",
       "      <th>holding_cost_end_products</th>\n",
       "      <th>end_products_cost</th>\n",
       "      <th>setup_cost_ingredients</th>\n",
       "      <th>production_cost_ingredients</th>\n",
       "      <th>holding_cost_end_ingredients</th>\n",
       "      <th>ingredients_cost</th>\n",
       "      <th>objective_function</th>\n",
       "      <th>Instance</th>\n",
       "      <th>Best Bound</th>\n",
       "      <th>Gap</th>\n",
       "      <th>Nodes Processed</th>\n",
       "      <th>Tempo de Solução</th>\n",
       "      <th>capacity</th>\n",
       "      <th>capacity_multiplier</th>\n",
       "      <th>amount_of_end_products</th>\n",
       "      <th>Relaxed Objective Value</th>\n",
       "    </tr>\n",
       "  </thead>\n",
       "  <tbody>\n",
       "    <tr>\n",
       "      <th>0</th>\n",
       "      <td>4.1e+05</td>\n",
       "      <td>0</td>\n",
       "      <td>1.8e+04</td>\n",
       "      <td>4.3e+05</td>\n",
       "      <td>2.2e+04</td>\n",
       "      <td>6.3e+06</td>\n",
       "      <td>5.3e+03</td>\n",
       "      <td>6.4e+06</td>\n",
       "      <td>6.8e+06</td>\n",
       "      <td>5LLL1</td>\n",
       "      <td>6.8e+06</td>\n",
       "      <td>0.00089</td>\n",
       "      <td>0.00089</td>\n",
       "      <td>3.6e+03</td>\n",
       "      <td>2.3e+03</td>\n",
       "      <td>N</td>\n",
       "      <td>10</td>\n",
       "      <td>6.8e+06</td>\n",
       "    </tr>\n",
       "    <tr>\n",
       "      <th>1</th>\n",
       "      <td>5.3e+05</td>\n",
       "      <td>0</td>\n",
       "      <td>3.7e+04</td>\n",
       "      <td>5.6e+05</td>\n",
       "      <td>6.3e+05</td>\n",
       "      <td>1.5e+07</td>\n",
       "      <td>2.9e+05</td>\n",
       "      <td>1.6e+07</td>\n",
       "      <td>1.7e+07</td>\n",
       "      <td>5HHH2</td>\n",
       "      <td>1.7e+07</td>\n",
       "      <td>9.9e-05</td>\n",
       "      <td>9.9e-05</td>\n",
       "      <td>1.7</td>\n",
       "      <td>6.6e+03</td>\n",
       "      <td>N</td>\n",
       "      <td>1</td>\n",
       "      <td>1.7e+07</td>\n",
       "    </tr>\n",
       "    <tr>\n",
       "      <th>2</th>\n",
       "      <td>4e+06</td>\n",
       "      <td>0</td>\n",
       "      <td>5.3e+05</td>\n",
       "      <td>4.5e+06</td>\n",
       "      <td>1.4e+06</td>\n",
       "      <td>6.9e+07</td>\n",
       "      <td>4.1e+05</td>\n",
       "      <td>7e+07</td>\n",
       "      <td>7.5e+07</td>\n",
       "      <td>2HHH3</td>\n",
       "      <td>7.5e+07</td>\n",
       "      <td>0.00011</td>\n",
       "      <td>0.00011</td>\n",
       "      <td>3.6e+03</td>\n",
       "      <td>9.1e+03</td>\n",
       "      <td>N</td>\n",
       "      <td>5</td>\n",
       "      <td>7.5e+07</td>\n",
       "    </tr>\n",
       "    <tr>\n",
       "      <th>3</th>\n",
       "      <td>3e+04</td>\n",
       "      <td>0</td>\n",
       "      <td>2e+03</td>\n",
       "      <td>3.2e+04</td>\n",
       "      <td>5.8e+03</td>\n",
       "      <td>4.8e+05</td>\n",
       "      <td>2.7e+03</td>\n",
       "      <td>4.8e+05</td>\n",
       "      <td>5.2e+05</td>\n",
       "      <td>2LLL4</td>\n",
       "      <td>5.2e+05</td>\n",
       "      <td>0.0001</td>\n",
       "      <td>0.0001</td>\n",
       "      <td>10</td>\n",
       "      <td>7.9e+03</td>\n",
       "      <td>N</td>\n",
       "      <td>1</td>\n",
       "      <td>5.2e+05</td>\n",
       "    </tr>\n",
       "    <tr>\n",
       "      <th>4</th>\n",
       "      <td>1.5e+06</td>\n",
       "      <td>0</td>\n",
       "      <td>2.3e+04</td>\n",
       "      <td>1.5e+06</td>\n",
       "      <td>4.5e+05</td>\n",
       "      <td>1.5e+07</td>\n",
       "      <td>6.6e+05</td>\n",
       "      <td>1.6e+07</td>\n",
       "      <td>1.8e+07</td>\n",
       "      <td>10HHH10</td>\n",
       "      <td>1.8e+07</td>\n",
       "      <td>6.4e-05</td>\n",
       "      <td>6.4e-05</td>\n",
       "      <td>0.1</td>\n",
       "      <td>6.4e+03</td>\n",
       "      <td>L</td>\n",
       "      <td>1</td>\n",
       "      <td>1.8e+07</td>\n",
       "    </tr>\n",
       "  </tbody>\n",
       "</table>\n",
       "</div>"
      ],
      "text/plain": [
       "   setup_cost_end_products  production_cost_end_products  \\\n",
       "0                  4.1e+05                             0   \n",
       "1                  5.3e+05                             0   \n",
       "2                    4e+06                             0   \n",
       "3                    3e+04                             0   \n",
       "4                  1.5e+06                             0   \n",
       "\n",
       "   holding_cost_end_products  end_products_cost  setup_cost_ingredients  \\\n",
       "0                    1.8e+04            4.3e+05                 2.2e+04   \n",
       "1                    3.7e+04            5.6e+05                 6.3e+05   \n",
       "2                    5.3e+05            4.5e+06                 1.4e+06   \n",
       "3                      2e+03            3.2e+04                 5.8e+03   \n",
       "4                    2.3e+04            1.5e+06                 4.5e+05   \n",
       "\n",
       "   production_cost_ingredients  holding_cost_end_ingredients  \\\n",
       "0                      6.3e+06                       5.3e+03   \n",
       "1                      1.5e+07                       2.9e+05   \n",
       "2                      6.9e+07                       4.1e+05   \n",
       "3                      4.8e+05                       2.7e+03   \n",
       "4                      1.5e+07                       6.6e+05   \n",
       "\n",
       "   ingredients_cost  objective_function Instance  Best Bound     Gap  \\\n",
       "0           6.4e+06             6.8e+06    5LLL1     6.8e+06 0.00089   \n",
       "1           1.6e+07             1.7e+07    5HHH2     1.7e+07 9.9e-05   \n",
       "2             7e+07             7.5e+07    2HHH3     7.5e+07 0.00011   \n",
       "3           4.8e+05             5.2e+05    2LLL4     5.2e+05  0.0001   \n",
       "4           1.6e+07             1.8e+07  10HHH10     1.8e+07 6.4e-05   \n",
       "\n",
       "   Nodes Processed  Tempo de Solução  capacity capacity_multiplier  \\\n",
       "0          0.00089           3.6e+03   2.3e+03                   N   \n",
       "1          9.9e-05               1.7   6.6e+03                   N   \n",
       "2          0.00011           3.6e+03   9.1e+03                   N   \n",
       "3           0.0001                10   7.9e+03                   N   \n",
       "4          6.4e-05               0.1   6.4e+03                   L   \n",
       "\n",
       "   amount_of_end_products  Relaxed Objective Value  \n",
       "0                      10                  6.8e+06  \n",
       "1                       1                  1.7e+07  \n",
       "2                       5                  7.5e+07  \n",
       "3                       1                  5.2e+05  \n",
       "4                       1                  1.8e+07  "
      ]
     },
     "execution_count": 4,
     "metadata": {},
     "output_type": "execute_result"
    }
   ],
   "source": [
    "df_formulacao1.head()"
   ]
  },
  {
   "cell_type": "code",
   "execution_count": 10,
   "metadata": {},
   "outputs": [
    {
     "data": {
      "text/html": [
       "<div>\n",
       "<style scoped>\n",
       "    .dataframe tbody tr th:only-of-type {\n",
       "        vertical-align: middle;\n",
       "    }\n",
       "\n",
       "    .dataframe tbody tr th {\n",
       "        vertical-align: top;\n",
       "    }\n",
       "\n",
       "    .dataframe thead th {\n",
       "        text-align: right;\n",
       "    }\n",
       "</style>\n",
       "<table border=\"1\" class=\"dataframe\">\n",
       "  <thead>\n",
       "    <tr style=\"text-align: right;\">\n",
       "      <th></th>\n",
       "      <th></th>\n",
       "      <th>Gap</th>\n",
       "    </tr>\n",
       "    <tr>\n",
       "      <th>amount_of_end_products</th>\n",
       "      <th>capacity_multiplier</th>\n",
       "      <th></th>\n",
       "    </tr>\n",
       "  </thead>\n",
       "  <tbody>\n",
       "    <tr>\n",
       "      <th rowspan=\"2\" valign=\"top\">1</th>\n",
       "      <th>L</th>\n",
       "      <td>9.2e-05</td>\n",
       "    </tr>\n",
       "    <tr>\n",
       "      <th>N</th>\n",
       "      <td>0.00029</td>\n",
       "    </tr>\n",
       "    <tr>\n",
       "      <th rowspan=\"2\" valign=\"top\">5</th>\n",
       "      <th>L</th>\n",
       "      <td>0.00091</td>\n",
       "    </tr>\n",
       "    <tr>\n",
       "      <th>N</th>\n",
       "      <td>0.0017</td>\n",
       "    </tr>\n",
       "    <tr>\n",
       "      <th rowspan=\"2\" valign=\"top\">10</th>\n",
       "      <th>L</th>\n",
       "      <td>0.0013</td>\n",
       "    </tr>\n",
       "    <tr>\n",
       "      <th>N</th>\n",
       "      <td>0.0016</td>\n",
       "    </tr>\n",
       "  </tbody>\n",
       "</table>\n",
       "</div>"
      ],
      "text/plain": [
       "                                               Gap\n",
       "amount_of_end_products capacity_multiplier        \n",
       "1                      L                   9.2e-05\n",
       "                       N                   0.00029\n",
       "5                      L                   0.00091\n",
       "                       N                    0.0017\n",
       "10                     L                    0.0013\n",
       "                       N                    0.0016"
      ]
     },
     "execution_count": 10,
     "metadata": {},
     "output_type": "execute_result"
    }
   ],
   "source": [
    "pd.pivot_table(df_formulacao1, values=\"Gap\", index=[\"amount_of_end_products\", \"capacity_multiplier\"], aggfunc=\"mean\")"
   ]
  },
  {
   "cell_type": "code",
   "execution_count": 9,
   "metadata": {},
   "outputs": [
    {
     "data": {
      "application/vnd.plotly.v1+json": {
       "config": {
        "plotlyServerURL": "https://plot.ly"
       },
       "data": [
        {
         "alignmentgroup": "True",
         "hovertemplate": "amount_of_end_products=10<br>capacity_multiplier=%{x}<br>Gap=%{y}<extra></extra>",
         "legendgroup": "10",
         "marker": {
          "color": "#636efa"
         },
         "name": "10",
         "notched": false,
         "offsetgroup": "10",
         "orientation": "v",
         "showlegend": true,
         "type": "box",
         "x": [
          "N",
          "L",
          "N",
          "N",
          "N",
          "N",
          "N",
          "N",
          "L",
          "N",
          "L",
          "L",
          "N",
          "N",
          "N",
          "N",
          "L",
          "N",
          "N",
          "L",
          "N",
          "N",
          "L",
          "N",
          "N",
          "N",
          "N",
          "L",
          "L",
          "L",
          "N",
          "L",
          "N",
          "N",
          "N",
          "N",
          "N",
          "N",
          "N",
          "N",
          "L",
          "N",
          "N",
          "L",
          "N",
          "N",
          "N",
          "N",
          "N",
          "L",
          "N",
          "N",
          "L",
          "N",
          "L",
          "L"
         ],
         "x0": " ",
         "xaxis": "x",
         "y": [
          0.0008909603134961446,
          0.003196121885776026,
          0.00009989875716273791,
          0.005245119430218471,
          0.0006873076819246088,
          0.001170321414241888,
          0.00009999933107951916,
          0.002941603243439997,
          0.0004798086200624164,
          0.0007165849514271324,
          0.0004466229181000282,
          0.0005808881440258737,
          0.001024559551083426,
          0.00316361387203511,
          0.003868202273027654,
          0.001296249849027147,
          0.002002629809465417,
          0.0006564422948559708,
          0.00009999438461193631,
          0.0007721312412613631,
          0.00287012671047464,
          0.003178811387451776,
          0.002129431617667732,
          0.002934932331484958,
          0.00009923561163409466,
          0.00009650349887166726,
          0.001713018295078161,
          0.001071827321292797,
          0.0006541138237694512,
          0.001090276204287622,
          0.00009997360341488003,
          0.0003018513184652444,
          0.0001422048704707087,
          0.003993493689606234,
          0.003857076734116508,
          0.00009999997682392554,
          0.002278590018662678,
          0.00009553910202941287,
          0.00009999586538156587,
          0.002684436624604499,
          0.001385018665504471,
          0.001570584146745717,
          0.00009997776019118354,
          0.0009063478117578412,
          0.00009999921935272885,
          0.001396411960343992,
          0.002992069470573023,
          0.001049881729491793,
          0.002220621625770789,
          0.001999000668834025,
          0.002817274125488464,
          0.001460386368908878,
          0.0008557217357364392,
          0.002387551790001859,
          0.002888954410232,
          0.0008056303684411564
         ],
         "y0": " ",
         "yaxis": "y"
        },
        {
         "alignmentgroup": "True",
         "hovertemplate": "amount_of_end_products=1<br>capacity_multiplier=%{x}<br>Gap=%{y}<extra></extra>",
         "legendgroup": "1",
         "marker": {
          "color": "#EF553B"
         },
         "name": "1",
         "notched": false,
         "offsetgroup": "1",
         "orientation": "v",
         "showlegend": true,
         "type": "box",
         "x": [
          "N",
          "N",
          "L",
          "L",
          "L",
          "L",
          "N",
          "N",
          "N",
          "L",
          "N",
          "N",
          "N",
          "N",
          "L",
          "L",
          "N",
          "N",
          "N",
          "N",
          "N",
          "L",
          "N",
          "N",
          "N",
          "N",
          "N",
          "N",
          "L",
          "N",
          "N",
          "N",
          "L",
          "N",
          "N",
          "N",
          "N",
          "N",
          "L",
          "N",
          "L",
          "N",
          "L",
          "N",
          "L",
          "N",
          "N",
          "N",
          "N",
          "N",
          "N",
          "N",
          "L",
          "N",
          "L",
          "L",
          "N",
          "N",
          "L",
          "N"
         ],
         "x0": " ",
         "xaxis": "x",
         "y": [
          0.00009939474817387723,
          0.00009984675767323968,
          0.00006424384554328627,
          0,
          0.000249246563457252,
          0.00009995869142610846,
          0.00009883862085774509,
          0.00009999983675995881,
          0.00009558236941541778,
          0,
          0.000602823176422025,
          0.00009998977931244271,
          0.0002371905204838659,
          0.00009997226796595393,
          0.00009721669977961995,
          0.0002166595953479918,
          0.00009125848404134151,
          0.0000509176287390169,
          0.000622903727692692,
          0.00009789714099727619,
          0.00009999703523269411,
          0.00009808348487959763,
          0.00009857916135707612,
          0.0009072914702753749,
          0.0001536177722777504,
          0.0008999081483586304,
          0,
          0.00007276146752545919,
          0.0001400752358653271,
          0.00009748703379025464,
          0.001955030747910977,
          0.00009846340691034581,
          0.00009992345003865832,
          0.00009999756792486642,
          0.00007532495262481552,
          0.00007595226782655246,
          0.0002672730026525927,
          0.00009786474330658311,
          0.00009999514707638993,
          0.00007618337216921313,
          0.00009215115569436345,
          0.00009998772488680916,
          0.00008121946809282493,
          0.00009999774051208175,
          0.00006047722331111894,
          0.0000999987201666995,
          0.000910525110336462,
          0.0008742993029468074,
          0.000006169528660153463,
          0.00009947032810568113,
          0.00009242888618531678,
          0.001077235787326169,
          0.00009994973877143934,
          0.00009963080718847941,
          0,
          0.00009948166207459795,
          0.0000764645690891602,
          0.00007566936314053974,
          0.00006023118424628923,
          0.001009705884148652
         ],
         "y0": " ",
         "yaxis": "y"
        },
        {
         "alignmentgroup": "True",
         "hovertemplate": "amount_of_end_products=5<br>capacity_multiplier=%{x}<br>Gap=%{y}<extra></extra>",
         "legendgroup": "5",
         "marker": {
          "color": "#00cc96"
         },
         "name": "5",
         "notched": false,
         "offsetgroup": "5",
         "orientation": "v",
         "showlegend": true,
         "type": "box",
         "x": [
          "N",
          "N",
          "N",
          "N",
          "N",
          "N",
          "L",
          "N",
          "L",
          "N",
          "N",
          "N",
          "N",
          "N",
          "L",
          "N",
          "N",
          "N",
          "N",
          "N",
          "N",
          "L",
          "N",
          "L",
          "N",
          "N",
          "N",
          "N",
          "L",
          "N",
          "L",
          "L",
          "N",
          "L",
          "N",
          "N",
          "L",
          "N",
          "L",
          "N",
          "N",
          "N",
          "L",
          "N",
          "L",
          "N",
          "N",
          "L",
          "N",
          "N",
          "N",
          "N",
          "N",
          "N",
          "N",
          "N",
          "N"
         ],
         "x0": " ",
         "xaxis": "x",
         "y": [
          0.0001149821196288637,
          0.002482717385406474,
          0.0003857307442060199,
          0.003019620448379516,
          0.0003366763391960343,
          0.0001471502197411615,
          0.0001522793090903445,
          0.0004740086232497086,
          0.0004821763023392259,
          0.00167969311959902,
          0.001434955976561155,
          0.001743676530638066,
          0.001657687735004639,
          0.00186185487851653,
          0.0000999998055448007,
          0.001671340023236092,
          0.007241206665715352,
          0.004189765269317007,
          0.0005620025988632213,
          0.0000999944395029874,
          0.003339338646536005,
          0.0008821025127398274,
          0.004364389868026721,
          0.001091363056759588,
          0.004025213568261387,
          0.0001987018421283564,
          0.002791543311624032,
          0.00009997652228868788,
          0.001300613157977421,
          0.001508298221965374,
          0.0008918873825016383,
          0.0002944008378985991,
          0.006160561030134963,
          0.001614187976092502,
          0.003813422865664814,
          0.002617681332124983,
          0.001269613549786865,
          0.0006600970778848379,
          0.001112779781852429,
          0.00009999987015553097,
          0.00009998795952726806,
          0.00009995980653843343,
          0.000750356142842529,
          0.00160765057390337,
          0.0005985357616314612,
          0.001685679350048491,
          0.001092005671166845,
          0.002220836791143977,
          0.0002461235624098942,
          0.001138795248540752,
          0.002267389023369371,
          0.00009999339139461072,
          0.001974928351257451,
          0.001300037750406943,
          0.001671929404566371,
          0.0002300636599100827,
          0.002322351214359065
         ],
         "y0": " ",
         "yaxis": "y"
        }
       ],
       "layout": {
        "boxmode": "group",
        "legend": {
         "title": {
          "text": "amount_of_end_products"
         },
         "tracegroupgap": 0
        },
        "margin": {
         "t": 60
        },
        "template": {
         "data": {
          "bar": [
           {
            "error_x": {
             "color": "#2a3f5f"
            },
            "error_y": {
             "color": "#2a3f5f"
            },
            "marker": {
             "line": {
              "color": "#E5ECF6",
              "width": 0.5
             },
             "pattern": {
              "fillmode": "overlay",
              "size": 10,
              "solidity": 0.2
             }
            },
            "type": "bar"
           }
          ],
          "barpolar": [
           {
            "marker": {
             "line": {
              "color": "#E5ECF6",
              "width": 0.5
             },
             "pattern": {
              "fillmode": "overlay",
              "size": 10,
              "solidity": 0.2
             }
            },
            "type": "barpolar"
           }
          ],
          "carpet": [
           {
            "aaxis": {
             "endlinecolor": "#2a3f5f",
             "gridcolor": "white",
             "linecolor": "white",
             "minorgridcolor": "white",
             "startlinecolor": "#2a3f5f"
            },
            "baxis": {
             "endlinecolor": "#2a3f5f",
             "gridcolor": "white",
             "linecolor": "white",
             "minorgridcolor": "white",
             "startlinecolor": "#2a3f5f"
            },
            "type": "carpet"
           }
          ],
          "choropleth": [
           {
            "colorbar": {
             "outlinewidth": 0,
             "ticks": ""
            },
            "type": "choropleth"
           }
          ],
          "contour": [
           {
            "colorbar": {
             "outlinewidth": 0,
             "ticks": ""
            },
            "colorscale": [
             [
              0,
              "#0d0887"
             ],
             [
              0.1111111111111111,
              "#46039f"
             ],
             [
              0.2222222222222222,
              "#7201a8"
             ],
             [
              0.3333333333333333,
              "#9c179e"
             ],
             [
              0.4444444444444444,
              "#bd3786"
             ],
             [
              0.5555555555555556,
              "#d8576b"
             ],
             [
              0.6666666666666666,
              "#ed7953"
             ],
             [
              0.7777777777777778,
              "#fb9f3a"
             ],
             [
              0.8888888888888888,
              "#fdca26"
             ],
             [
              1,
              "#f0f921"
             ]
            ],
            "type": "contour"
           }
          ],
          "contourcarpet": [
           {
            "colorbar": {
             "outlinewidth": 0,
             "ticks": ""
            },
            "type": "contourcarpet"
           }
          ],
          "heatmap": [
           {
            "colorbar": {
             "outlinewidth": 0,
             "ticks": ""
            },
            "colorscale": [
             [
              0,
              "#0d0887"
             ],
             [
              0.1111111111111111,
              "#46039f"
             ],
             [
              0.2222222222222222,
              "#7201a8"
             ],
             [
              0.3333333333333333,
              "#9c179e"
             ],
             [
              0.4444444444444444,
              "#bd3786"
             ],
             [
              0.5555555555555556,
              "#d8576b"
             ],
             [
              0.6666666666666666,
              "#ed7953"
             ],
             [
              0.7777777777777778,
              "#fb9f3a"
             ],
             [
              0.8888888888888888,
              "#fdca26"
             ],
             [
              1,
              "#f0f921"
             ]
            ],
            "type": "heatmap"
           }
          ],
          "heatmapgl": [
           {
            "colorbar": {
             "outlinewidth": 0,
             "ticks": ""
            },
            "colorscale": [
             [
              0,
              "#0d0887"
             ],
             [
              0.1111111111111111,
              "#46039f"
             ],
             [
              0.2222222222222222,
              "#7201a8"
             ],
             [
              0.3333333333333333,
              "#9c179e"
             ],
             [
              0.4444444444444444,
              "#bd3786"
             ],
             [
              0.5555555555555556,
              "#d8576b"
             ],
             [
              0.6666666666666666,
              "#ed7953"
             ],
             [
              0.7777777777777778,
              "#fb9f3a"
             ],
             [
              0.8888888888888888,
              "#fdca26"
             ],
             [
              1,
              "#f0f921"
             ]
            ],
            "type": "heatmapgl"
           }
          ],
          "histogram": [
           {
            "marker": {
             "pattern": {
              "fillmode": "overlay",
              "size": 10,
              "solidity": 0.2
             }
            },
            "type": "histogram"
           }
          ],
          "histogram2d": [
           {
            "colorbar": {
             "outlinewidth": 0,
             "ticks": ""
            },
            "colorscale": [
             [
              0,
              "#0d0887"
             ],
             [
              0.1111111111111111,
              "#46039f"
             ],
             [
              0.2222222222222222,
              "#7201a8"
             ],
             [
              0.3333333333333333,
              "#9c179e"
             ],
             [
              0.4444444444444444,
              "#bd3786"
             ],
             [
              0.5555555555555556,
              "#d8576b"
             ],
             [
              0.6666666666666666,
              "#ed7953"
             ],
             [
              0.7777777777777778,
              "#fb9f3a"
             ],
             [
              0.8888888888888888,
              "#fdca26"
             ],
             [
              1,
              "#f0f921"
             ]
            ],
            "type": "histogram2d"
           }
          ],
          "histogram2dcontour": [
           {
            "colorbar": {
             "outlinewidth": 0,
             "ticks": ""
            },
            "colorscale": [
             [
              0,
              "#0d0887"
             ],
             [
              0.1111111111111111,
              "#46039f"
             ],
             [
              0.2222222222222222,
              "#7201a8"
             ],
             [
              0.3333333333333333,
              "#9c179e"
             ],
             [
              0.4444444444444444,
              "#bd3786"
             ],
             [
              0.5555555555555556,
              "#d8576b"
             ],
             [
              0.6666666666666666,
              "#ed7953"
             ],
             [
              0.7777777777777778,
              "#fb9f3a"
             ],
             [
              0.8888888888888888,
              "#fdca26"
             ],
             [
              1,
              "#f0f921"
             ]
            ],
            "type": "histogram2dcontour"
           }
          ],
          "mesh3d": [
           {
            "colorbar": {
             "outlinewidth": 0,
             "ticks": ""
            },
            "type": "mesh3d"
           }
          ],
          "parcoords": [
           {
            "line": {
             "colorbar": {
              "outlinewidth": 0,
              "ticks": ""
             }
            },
            "type": "parcoords"
           }
          ],
          "pie": [
           {
            "automargin": true,
            "type": "pie"
           }
          ],
          "scatter": [
           {
            "fillpattern": {
             "fillmode": "overlay",
             "size": 10,
             "solidity": 0.2
            },
            "type": "scatter"
           }
          ],
          "scatter3d": [
           {
            "line": {
             "colorbar": {
              "outlinewidth": 0,
              "ticks": ""
             }
            },
            "marker": {
             "colorbar": {
              "outlinewidth": 0,
              "ticks": ""
             }
            },
            "type": "scatter3d"
           }
          ],
          "scattercarpet": [
           {
            "marker": {
             "colorbar": {
              "outlinewidth": 0,
              "ticks": ""
             }
            },
            "type": "scattercarpet"
           }
          ],
          "scattergeo": [
           {
            "marker": {
             "colorbar": {
              "outlinewidth": 0,
              "ticks": ""
             }
            },
            "type": "scattergeo"
           }
          ],
          "scattergl": [
           {
            "marker": {
             "colorbar": {
              "outlinewidth": 0,
              "ticks": ""
             }
            },
            "type": "scattergl"
           }
          ],
          "scattermapbox": [
           {
            "marker": {
             "colorbar": {
              "outlinewidth": 0,
              "ticks": ""
             }
            },
            "type": "scattermapbox"
           }
          ],
          "scatterpolar": [
           {
            "marker": {
             "colorbar": {
              "outlinewidth": 0,
              "ticks": ""
             }
            },
            "type": "scatterpolar"
           }
          ],
          "scatterpolargl": [
           {
            "marker": {
             "colorbar": {
              "outlinewidth": 0,
              "ticks": ""
             }
            },
            "type": "scatterpolargl"
           }
          ],
          "scatterternary": [
           {
            "marker": {
             "colorbar": {
              "outlinewidth": 0,
              "ticks": ""
             }
            },
            "type": "scatterternary"
           }
          ],
          "surface": [
           {
            "colorbar": {
             "outlinewidth": 0,
             "ticks": ""
            },
            "colorscale": [
             [
              0,
              "#0d0887"
             ],
             [
              0.1111111111111111,
              "#46039f"
             ],
             [
              0.2222222222222222,
              "#7201a8"
             ],
             [
              0.3333333333333333,
              "#9c179e"
             ],
             [
              0.4444444444444444,
              "#bd3786"
             ],
             [
              0.5555555555555556,
              "#d8576b"
             ],
             [
              0.6666666666666666,
              "#ed7953"
             ],
             [
              0.7777777777777778,
              "#fb9f3a"
             ],
             [
              0.8888888888888888,
              "#fdca26"
             ],
             [
              1,
              "#f0f921"
             ]
            ],
            "type": "surface"
           }
          ],
          "table": [
           {
            "cells": {
             "fill": {
              "color": "#EBF0F8"
             },
             "line": {
              "color": "white"
             }
            },
            "header": {
             "fill": {
              "color": "#C8D4E3"
             },
             "line": {
              "color": "white"
             }
            },
            "type": "table"
           }
          ]
         },
         "layout": {
          "annotationdefaults": {
           "arrowcolor": "#2a3f5f",
           "arrowhead": 0,
           "arrowwidth": 1
          },
          "autotypenumbers": "strict",
          "coloraxis": {
           "colorbar": {
            "outlinewidth": 0,
            "ticks": ""
           }
          },
          "colorscale": {
           "diverging": [
            [
             0,
             "#8e0152"
            ],
            [
             0.1,
             "#c51b7d"
            ],
            [
             0.2,
             "#de77ae"
            ],
            [
             0.3,
             "#f1b6da"
            ],
            [
             0.4,
             "#fde0ef"
            ],
            [
             0.5,
             "#f7f7f7"
            ],
            [
             0.6,
             "#e6f5d0"
            ],
            [
             0.7,
             "#b8e186"
            ],
            [
             0.8,
             "#7fbc41"
            ],
            [
             0.9,
             "#4d9221"
            ],
            [
             1,
             "#276419"
            ]
           ],
           "sequential": [
            [
             0,
             "#0d0887"
            ],
            [
             0.1111111111111111,
             "#46039f"
            ],
            [
             0.2222222222222222,
             "#7201a8"
            ],
            [
             0.3333333333333333,
             "#9c179e"
            ],
            [
             0.4444444444444444,
             "#bd3786"
            ],
            [
             0.5555555555555556,
             "#d8576b"
            ],
            [
             0.6666666666666666,
             "#ed7953"
            ],
            [
             0.7777777777777778,
             "#fb9f3a"
            ],
            [
             0.8888888888888888,
             "#fdca26"
            ],
            [
             1,
             "#f0f921"
            ]
           ],
           "sequentialminus": [
            [
             0,
             "#0d0887"
            ],
            [
             0.1111111111111111,
             "#46039f"
            ],
            [
             0.2222222222222222,
             "#7201a8"
            ],
            [
             0.3333333333333333,
             "#9c179e"
            ],
            [
             0.4444444444444444,
             "#bd3786"
            ],
            [
             0.5555555555555556,
             "#d8576b"
            ],
            [
             0.6666666666666666,
             "#ed7953"
            ],
            [
             0.7777777777777778,
             "#fb9f3a"
            ],
            [
             0.8888888888888888,
             "#fdca26"
            ],
            [
             1,
             "#f0f921"
            ]
           ]
          },
          "colorway": [
           "#636efa",
           "#EF553B",
           "#00cc96",
           "#ab63fa",
           "#FFA15A",
           "#19d3f3",
           "#FF6692",
           "#B6E880",
           "#FF97FF",
           "#FECB52"
          ],
          "font": {
           "color": "#2a3f5f"
          },
          "geo": {
           "bgcolor": "white",
           "lakecolor": "white",
           "landcolor": "#E5ECF6",
           "showlakes": true,
           "showland": true,
           "subunitcolor": "white"
          },
          "hoverlabel": {
           "align": "left"
          },
          "hovermode": "closest",
          "mapbox": {
           "style": "light"
          },
          "paper_bgcolor": "white",
          "plot_bgcolor": "#E5ECF6",
          "polar": {
           "angularaxis": {
            "gridcolor": "white",
            "linecolor": "white",
            "ticks": ""
           },
           "bgcolor": "#E5ECF6",
           "radialaxis": {
            "gridcolor": "white",
            "linecolor": "white",
            "ticks": ""
           }
          },
          "scene": {
           "xaxis": {
            "backgroundcolor": "#E5ECF6",
            "gridcolor": "white",
            "gridwidth": 2,
            "linecolor": "white",
            "showbackground": true,
            "ticks": "",
            "zerolinecolor": "white"
           },
           "yaxis": {
            "backgroundcolor": "#E5ECF6",
            "gridcolor": "white",
            "gridwidth": 2,
            "linecolor": "white",
            "showbackground": true,
            "ticks": "",
            "zerolinecolor": "white"
           },
           "zaxis": {
            "backgroundcolor": "#E5ECF6",
            "gridcolor": "white",
            "gridwidth": 2,
            "linecolor": "white",
            "showbackground": true,
            "ticks": "",
            "zerolinecolor": "white"
           }
          },
          "shapedefaults": {
           "line": {
            "color": "#2a3f5f"
           }
          },
          "ternary": {
           "aaxis": {
            "gridcolor": "white",
            "linecolor": "white",
            "ticks": ""
           },
           "baxis": {
            "gridcolor": "white",
            "linecolor": "white",
            "ticks": ""
           },
           "bgcolor": "#E5ECF6",
           "caxis": {
            "gridcolor": "white",
            "linecolor": "white",
            "ticks": ""
           }
          },
          "title": {
           "x": 0.05
          },
          "xaxis": {
           "automargin": true,
           "gridcolor": "white",
           "linecolor": "white",
           "ticks": "",
           "title": {
            "standoff": 15
           },
           "zerolinecolor": "white",
           "zerolinewidth": 2
          },
          "yaxis": {
           "automargin": true,
           "gridcolor": "white",
           "linecolor": "white",
           "ticks": "",
           "title": {
            "standoff": 15
           },
           "zerolinecolor": "white",
           "zerolinewidth": 2
          }
         }
        },
        "xaxis": {
         "anchor": "y",
         "domain": [
          0,
          1
         ],
         "title": {
          "text": "capacity_multiplier"
         }
        },
        "yaxis": {
         "anchor": "x",
         "domain": [
          0,
          1
         ],
         "title": {
          "text": "Gap"
         }
        }
       }
      }
     },
     "metadata": {},
     "output_type": "display_data"
    }
   ],
   "source": [
    "px.box(df_formulacao1, y=\"Gap\", color=\"amount_of_end_products\", x=\"capacity_multiplier\")"
   ]
  },
  {
   "cell_type": "code",
   "execution_count": 11,
   "metadata": {},
   "outputs": [
    {
     "data": {
      "text/html": [
       "<div>\n",
       "<style scoped>\n",
       "    .dataframe tbody tr th:only-of-type {\n",
       "        vertical-align: middle;\n",
       "    }\n",
       "\n",
       "    .dataframe tbody tr th {\n",
       "        vertical-align: top;\n",
       "    }\n",
       "\n",
       "    .dataframe thead th {\n",
       "        text-align: right;\n",
       "    }\n",
       "</style>\n",
       "<table border=\"1\" class=\"dataframe\">\n",
       "  <thead>\n",
       "    <tr style=\"text-align: right;\">\n",
       "      <th></th>\n",
       "      <th></th>\n",
       "      <th>Nodes Processed</th>\n",
       "    </tr>\n",
       "    <tr>\n",
       "      <th>amount_of_end_products</th>\n",
       "      <th>capacity_multiplier</th>\n",
       "      <th></th>\n",
       "    </tr>\n",
       "  </thead>\n",
       "  <tbody>\n",
       "    <tr>\n",
       "      <th rowspan=\"2\" valign=\"top\">1</th>\n",
       "      <th>L</th>\n",
       "      <td>9.2e-05</td>\n",
       "    </tr>\n",
       "    <tr>\n",
       "      <th>N</th>\n",
       "      <td>0.00029</td>\n",
       "    </tr>\n",
       "    <tr>\n",
       "      <th rowspan=\"2\" valign=\"top\">5</th>\n",
       "      <th>L</th>\n",
       "      <td>0.00091</td>\n",
       "    </tr>\n",
       "    <tr>\n",
       "      <th>N</th>\n",
       "      <td>0.0017</td>\n",
       "    </tr>\n",
       "    <tr>\n",
       "      <th rowspan=\"2\" valign=\"top\">10</th>\n",
       "      <th>L</th>\n",
       "      <td>0.0013</td>\n",
       "    </tr>\n",
       "    <tr>\n",
       "      <th>N</th>\n",
       "      <td>0.0016</td>\n",
       "    </tr>\n",
       "  </tbody>\n",
       "</table>\n",
       "</div>"
      ],
      "text/plain": [
       "                                            Nodes Processed\n",
       "amount_of_end_products capacity_multiplier                 \n",
       "1                      L                            9.2e-05\n",
       "                       N                            0.00029\n",
       "5                      L                            0.00091\n",
       "                       N                             0.0017\n",
       "10                     L                             0.0013\n",
       "                       N                             0.0016"
      ]
     },
     "execution_count": 11,
     "metadata": {},
     "output_type": "execute_result"
    }
   ],
   "source": [
    "pd.pivot_table(df_formulacao1, values=\"Nodes Processed\", index=[\"amount_of_end_products\", \"capacity_multiplier\"], aggfunc=\"mean\")"
   ]
  },
  {
   "cell_type": "code",
   "execution_count": 12,
   "metadata": {},
   "outputs": [
    {
     "data": {
      "application/vnd.plotly.v1+json": {
       "config": {
        "plotlyServerURL": "https://plot.ly"
       },
       "data": [
        {
         "alignmentgroup": "True",
         "hovertemplate": "amount_of_end_products=10<br>capacity_multiplier=%{x}<br>Nodes Processed=%{y}<extra></extra>",
         "legendgroup": "10",
         "marker": {
          "color": "#636efa"
         },
         "name": "10",
         "notched": false,
         "offsetgroup": "10",
         "orientation": "v",
         "showlegend": true,
         "type": "box",
         "x": [
          "N",
          "L",
          "N",
          "N",
          "N",
          "N",
          "N",
          "N",
          "L",
          "N",
          "L",
          "L",
          "N",
          "N",
          "N",
          "N",
          "L",
          "N",
          "N",
          "L",
          "N",
          "N",
          "L",
          "N",
          "N",
          "N",
          "N",
          "L",
          "L",
          "L",
          "N",
          "L",
          "N",
          "N",
          "N",
          "N",
          "N",
          "N",
          "N",
          "N",
          "L",
          "N",
          "N",
          "L",
          "N",
          "N",
          "N",
          "N",
          "N",
          "L",
          "N",
          "N",
          "L",
          "N",
          "L",
          "L"
         ],
         "x0": " ",
         "xaxis": "x",
         "y": [
          0.0008909603134961446,
          0.003196121885776026,
          0.00009989875716273791,
          0.005245119430218471,
          0.0006873076819246088,
          0.001170321414241888,
          0.00009999933107951916,
          0.002941603243439997,
          0.0004798086200624164,
          0.0007165849514271324,
          0.0004466229181000282,
          0.0005808881440258737,
          0.001024559551083426,
          0.00316361387203511,
          0.003868202273027654,
          0.001296249849027147,
          0.002002629809465417,
          0.0006564422948559708,
          0.00009999438461193631,
          0.0007721312412613631,
          0.00287012671047464,
          0.003178811387451776,
          0.002129431617667732,
          0.002934932331484958,
          0.00009923561163409466,
          0.00009650349887166726,
          0.001713018295078161,
          0.001071827321292797,
          0.0006541138237694512,
          0.001090276204287622,
          0.00009997360341488003,
          0.0003018513184652444,
          0.0001422048704707087,
          0.003993493689606234,
          0.003857076734116508,
          0.00009999997682392554,
          0.002278590018662678,
          0.00009553910202941287,
          0.00009999586538156587,
          0.002684436624604499,
          0.001385018665504471,
          0.001570584146745717,
          0.00009997776019118354,
          0.0009063478117578412,
          0.00009999921935272885,
          0.001396411960343992,
          0.002992069470573023,
          0.001049881729491793,
          0.002220621625770789,
          0.001999000668834025,
          0.002817274125488464,
          0.001460386368908878,
          0.0008557217357364392,
          0.002387551790001859,
          0.002888954410232,
          0.0008056303684411564
         ],
         "y0": " ",
         "yaxis": "y"
        },
        {
         "alignmentgroup": "True",
         "hovertemplate": "amount_of_end_products=1<br>capacity_multiplier=%{x}<br>Nodes Processed=%{y}<extra></extra>",
         "legendgroup": "1",
         "marker": {
          "color": "#EF553B"
         },
         "name": "1",
         "notched": false,
         "offsetgroup": "1",
         "orientation": "v",
         "showlegend": true,
         "type": "box",
         "x": [
          "N",
          "N",
          "L",
          "L",
          "L",
          "L",
          "N",
          "N",
          "N",
          "L",
          "N",
          "N",
          "N",
          "N",
          "L",
          "L",
          "N",
          "N",
          "N",
          "N",
          "N",
          "L",
          "N",
          "N",
          "N",
          "N",
          "N",
          "N",
          "L",
          "N",
          "N",
          "N",
          "L",
          "N",
          "N",
          "N",
          "N",
          "N",
          "L",
          "N",
          "L",
          "N",
          "L",
          "N",
          "L",
          "N",
          "N",
          "N",
          "N",
          "N",
          "N",
          "N",
          "L",
          "N",
          "L",
          "L",
          "N",
          "N",
          "L",
          "N"
         ],
         "x0": " ",
         "xaxis": "x",
         "y": [
          0.00009939474817387723,
          0.00009984675767323968,
          0.00006424384554328627,
          0,
          0.000249246563457252,
          0.00009995869142610846,
          0.00009883862085774509,
          0.00009999983675995881,
          0.00009558236941541778,
          0,
          0.000602823176422025,
          0.00009998977931244271,
          0.0002371905204838659,
          0.00009997226796595393,
          0.00009721669977961995,
          0.0002166595953479918,
          0.00009125848404134151,
          0.0000509176287390169,
          0.000622903727692692,
          0.00009789714099727619,
          0.00009999703523269411,
          0.00009808348487959763,
          0.00009857916135707612,
          0.0009072914702753749,
          0.0001536177722777504,
          0.0008999081483586304,
          0,
          0.00007276146752545919,
          0.0001400752358653271,
          0.00009748703379025464,
          0.001955030747910977,
          0.00009846340691034581,
          0.00009992345003865832,
          0.00009999756792486642,
          0.00007532495262481552,
          0.00007595226782655246,
          0.0002672730026525927,
          0.00009786474330658311,
          0.00009999514707638993,
          0.00007618337216921313,
          0.00009215115569436345,
          0.00009998772488680916,
          0.00008121946809282493,
          0.00009999774051208175,
          0.00006047722331111894,
          0.0000999987201666995,
          0.000910525110336462,
          0.0008742993029468074,
          0.000006169528660153463,
          0.00009947032810568113,
          0.00009242888618531678,
          0.001077235787326169,
          0.00009994973877143934,
          0.00009963080718847941,
          0,
          0.00009948166207459795,
          0.0000764645690891602,
          0.00007566936314053974,
          0.00006023118424628923,
          0.001009705884148652
         ],
         "y0": " ",
         "yaxis": "y"
        },
        {
         "alignmentgroup": "True",
         "hovertemplate": "amount_of_end_products=5<br>capacity_multiplier=%{x}<br>Nodes Processed=%{y}<extra></extra>",
         "legendgroup": "5",
         "marker": {
          "color": "#00cc96"
         },
         "name": "5",
         "notched": false,
         "offsetgroup": "5",
         "orientation": "v",
         "showlegend": true,
         "type": "box",
         "x": [
          "N",
          "N",
          "N",
          "N",
          "N",
          "N",
          "L",
          "N",
          "L",
          "N",
          "N",
          "N",
          "N",
          "N",
          "L",
          "N",
          "N",
          "N",
          "N",
          "N",
          "N",
          "L",
          "N",
          "L",
          "N",
          "N",
          "N",
          "N",
          "L",
          "N",
          "L",
          "L",
          "N",
          "L",
          "N",
          "N",
          "L",
          "N",
          "L",
          "N",
          "N",
          "N",
          "L",
          "N",
          "L",
          "N",
          "N",
          "L",
          "N",
          "N",
          "N",
          "N",
          "N",
          "N",
          "N",
          "N",
          "N"
         ],
         "x0": " ",
         "xaxis": "x",
         "y": [
          0.0001149821196288637,
          0.002482717385406474,
          0.0003857307442060199,
          0.003019620448379516,
          0.0003366763391960343,
          0.0001471502197411615,
          0.0001522793090903445,
          0.0004740086232497086,
          0.0004821763023392259,
          0.00167969311959902,
          0.001434955976561155,
          0.001743676530638066,
          0.001657687735004639,
          0.00186185487851653,
          0.0000999998055448007,
          0.001671340023236092,
          0.007241206665715352,
          0.004189765269317007,
          0.0005620025988632213,
          0.0000999944395029874,
          0.003339338646536005,
          0.0008821025127398274,
          0.004364389868026721,
          0.001091363056759588,
          0.004025213568261387,
          0.0001987018421283564,
          0.002791543311624032,
          0.00009997652228868788,
          0.001300613157977421,
          0.001508298221965374,
          0.0008918873825016383,
          0.0002944008378985991,
          0.006160561030134963,
          0.001614187976092502,
          0.003813422865664814,
          0.002617681332124983,
          0.001269613549786865,
          0.0006600970778848379,
          0.001112779781852429,
          0.00009999987015553097,
          0.00009998795952726806,
          0.00009995980653843343,
          0.000750356142842529,
          0.00160765057390337,
          0.0005985357616314612,
          0.001685679350048491,
          0.001092005671166845,
          0.002220836791143977,
          0.0002461235624098942,
          0.001138795248540752,
          0.002267389023369371,
          0.00009999339139461072,
          0.001974928351257451,
          0.001300037750406943,
          0.001671929404566371,
          0.0002300636599100827,
          0.002322351214359065
         ],
         "y0": " ",
         "yaxis": "y"
        }
       ],
       "layout": {
        "boxmode": "group",
        "legend": {
         "title": {
          "text": "amount_of_end_products"
         },
         "tracegroupgap": 0
        },
        "margin": {
         "t": 60
        },
        "template": {
         "data": {
          "bar": [
           {
            "error_x": {
             "color": "#2a3f5f"
            },
            "error_y": {
             "color": "#2a3f5f"
            },
            "marker": {
             "line": {
              "color": "#E5ECF6",
              "width": 0.5
             },
             "pattern": {
              "fillmode": "overlay",
              "size": 10,
              "solidity": 0.2
             }
            },
            "type": "bar"
           }
          ],
          "barpolar": [
           {
            "marker": {
             "line": {
              "color": "#E5ECF6",
              "width": 0.5
             },
             "pattern": {
              "fillmode": "overlay",
              "size": 10,
              "solidity": 0.2
             }
            },
            "type": "barpolar"
           }
          ],
          "carpet": [
           {
            "aaxis": {
             "endlinecolor": "#2a3f5f",
             "gridcolor": "white",
             "linecolor": "white",
             "minorgridcolor": "white",
             "startlinecolor": "#2a3f5f"
            },
            "baxis": {
             "endlinecolor": "#2a3f5f",
             "gridcolor": "white",
             "linecolor": "white",
             "minorgridcolor": "white",
             "startlinecolor": "#2a3f5f"
            },
            "type": "carpet"
           }
          ],
          "choropleth": [
           {
            "colorbar": {
             "outlinewidth": 0,
             "ticks": ""
            },
            "type": "choropleth"
           }
          ],
          "contour": [
           {
            "colorbar": {
             "outlinewidth": 0,
             "ticks": ""
            },
            "colorscale": [
             [
              0,
              "#0d0887"
             ],
             [
              0.1111111111111111,
              "#46039f"
             ],
             [
              0.2222222222222222,
              "#7201a8"
             ],
             [
              0.3333333333333333,
              "#9c179e"
             ],
             [
              0.4444444444444444,
              "#bd3786"
             ],
             [
              0.5555555555555556,
              "#d8576b"
             ],
             [
              0.6666666666666666,
              "#ed7953"
             ],
             [
              0.7777777777777778,
              "#fb9f3a"
             ],
             [
              0.8888888888888888,
              "#fdca26"
             ],
             [
              1,
              "#f0f921"
             ]
            ],
            "type": "contour"
           }
          ],
          "contourcarpet": [
           {
            "colorbar": {
             "outlinewidth": 0,
             "ticks": ""
            },
            "type": "contourcarpet"
           }
          ],
          "heatmap": [
           {
            "colorbar": {
             "outlinewidth": 0,
             "ticks": ""
            },
            "colorscale": [
             [
              0,
              "#0d0887"
             ],
             [
              0.1111111111111111,
              "#46039f"
             ],
             [
              0.2222222222222222,
              "#7201a8"
             ],
             [
              0.3333333333333333,
              "#9c179e"
             ],
             [
              0.4444444444444444,
              "#bd3786"
             ],
             [
              0.5555555555555556,
              "#d8576b"
             ],
             [
              0.6666666666666666,
              "#ed7953"
             ],
             [
              0.7777777777777778,
              "#fb9f3a"
             ],
             [
              0.8888888888888888,
              "#fdca26"
             ],
             [
              1,
              "#f0f921"
             ]
            ],
            "type": "heatmap"
           }
          ],
          "heatmapgl": [
           {
            "colorbar": {
             "outlinewidth": 0,
             "ticks": ""
            },
            "colorscale": [
             [
              0,
              "#0d0887"
             ],
             [
              0.1111111111111111,
              "#46039f"
             ],
             [
              0.2222222222222222,
              "#7201a8"
             ],
             [
              0.3333333333333333,
              "#9c179e"
             ],
             [
              0.4444444444444444,
              "#bd3786"
             ],
             [
              0.5555555555555556,
              "#d8576b"
             ],
             [
              0.6666666666666666,
              "#ed7953"
             ],
             [
              0.7777777777777778,
              "#fb9f3a"
             ],
             [
              0.8888888888888888,
              "#fdca26"
             ],
             [
              1,
              "#f0f921"
             ]
            ],
            "type": "heatmapgl"
           }
          ],
          "histogram": [
           {
            "marker": {
             "pattern": {
              "fillmode": "overlay",
              "size": 10,
              "solidity": 0.2
             }
            },
            "type": "histogram"
           }
          ],
          "histogram2d": [
           {
            "colorbar": {
             "outlinewidth": 0,
             "ticks": ""
            },
            "colorscale": [
             [
              0,
              "#0d0887"
             ],
             [
              0.1111111111111111,
              "#46039f"
             ],
             [
              0.2222222222222222,
              "#7201a8"
             ],
             [
              0.3333333333333333,
              "#9c179e"
             ],
             [
              0.4444444444444444,
              "#bd3786"
             ],
             [
              0.5555555555555556,
              "#d8576b"
             ],
             [
              0.6666666666666666,
              "#ed7953"
             ],
             [
              0.7777777777777778,
              "#fb9f3a"
             ],
             [
              0.8888888888888888,
              "#fdca26"
             ],
             [
              1,
              "#f0f921"
             ]
            ],
            "type": "histogram2d"
           }
          ],
          "histogram2dcontour": [
           {
            "colorbar": {
             "outlinewidth": 0,
             "ticks": ""
            },
            "colorscale": [
             [
              0,
              "#0d0887"
             ],
             [
              0.1111111111111111,
              "#46039f"
             ],
             [
              0.2222222222222222,
              "#7201a8"
             ],
             [
              0.3333333333333333,
              "#9c179e"
             ],
             [
              0.4444444444444444,
              "#bd3786"
             ],
             [
              0.5555555555555556,
              "#d8576b"
             ],
             [
              0.6666666666666666,
              "#ed7953"
             ],
             [
              0.7777777777777778,
              "#fb9f3a"
             ],
             [
              0.8888888888888888,
              "#fdca26"
             ],
             [
              1,
              "#f0f921"
             ]
            ],
            "type": "histogram2dcontour"
           }
          ],
          "mesh3d": [
           {
            "colorbar": {
             "outlinewidth": 0,
             "ticks": ""
            },
            "type": "mesh3d"
           }
          ],
          "parcoords": [
           {
            "line": {
             "colorbar": {
              "outlinewidth": 0,
              "ticks": ""
             }
            },
            "type": "parcoords"
           }
          ],
          "pie": [
           {
            "automargin": true,
            "type": "pie"
           }
          ],
          "scatter": [
           {
            "fillpattern": {
             "fillmode": "overlay",
             "size": 10,
             "solidity": 0.2
            },
            "type": "scatter"
           }
          ],
          "scatter3d": [
           {
            "line": {
             "colorbar": {
              "outlinewidth": 0,
              "ticks": ""
             }
            },
            "marker": {
             "colorbar": {
              "outlinewidth": 0,
              "ticks": ""
             }
            },
            "type": "scatter3d"
           }
          ],
          "scattercarpet": [
           {
            "marker": {
             "colorbar": {
              "outlinewidth": 0,
              "ticks": ""
             }
            },
            "type": "scattercarpet"
           }
          ],
          "scattergeo": [
           {
            "marker": {
             "colorbar": {
              "outlinewidth": 0,
              "ticks": ""
             }
            },
            "type": "scattergeo"
           }
          ],
          "scattergl": [
           {
            "marker": {
             "colorbar": {
              "outlinewidth": 0,
              "ticks": ""
             }
            },
            "type": "scattergl"
           }
          ],
          "scattermapbox": [
           {
            "marker": {
             "colorbar": {
              "outlinewidth": 0,
              "ticks": ""
             }
            },
            "type": "scattermapbox"
           }
          ],
          "scatterpolar": [
           {
            "marker": {
             "colorbar": {
              "outlinewidth": 0,
              "ticks": ""
             }
            },
            "type": "scatterpolar"
           }
          ],
          "scatterpolargl": [
           {
            "marker": {
             "colorbar": {
              "outlinewidth": 0,
              "ticks": ""
             }
            },
            "type": "scatterpolargl"
           }
          ],
          "scatterternary": [
           {
            "marker": {
             "colorbar": {
              "outlinewidth": 0,
              "ticks": ""
             }
            },
            "type": "scatterternary"
           }
          ],
          "surface": [
           {
            "colorbar": {
             "outlinewidth": 0,
             "ticks": ""
            },
            "colorscale": [
             [
              0,
              "#0d0887"
             ],
             [
              0.1111111111111111,
              "#46039f"
             ],
             [
              0.2222222222222222,
              "#7201a8"
             ],
             [
              0.3333333333333333,
              "#9c179e"
             ],
             [
              0.4444444444444444,
              "#bd3786"
             ],
             [
              0.5555555555555556,
              "#d8576b"
             ],
             [
              0.6666666666666666,
              "#ed7953"
             ],
             [
              0.7777777777777778,
              "#fb9f3a"
             ],
             [
              0.8888888888888888,
              "#fdca26"
             ],
             [
              1,
              "#f0f921"
             ]
            ],
            "type": "surface"
           }
          ],
          "table": [
           {
            "cells": {
             "fill": {
              "color": "#EBF0F8"
             },
             "line": {
              "color": "white"
             }
            },
            "header": {
             "fill": {
              "color": "#C8D4E3"
             },
             "line": {
              "color": "white"
             }
            },
            "type": "table"
           }
          ]
         },
         "layout": {
          "annotationdefaults": {
           "arrowcolor": "#2a3f5f",
           "arrowhead": 0,
           "arrowwidth": 1
          },
          "autotypenumbers": "strict",
          "coloraxis": {
           "colorbar": {
            "outlinewidth": 0,
            "ticks": ""
           }
          },
          "colorscale": {
           "diverging": [
            [
             0,
             "#8e0152"
            ],
            [
             0.1,
             "#c51b7d"
            ],
            [
             0.2,
             "#de77ae"
            ],
            [
             0.3,
             "#f1b6da"
            ],
            [
             0.4,
             "#fde0ef"
            ],
            [
             0.5,
             "#f7f7f7"
            ],
            [
             0.6,
             "#e6f5d0"
            ],
            [
             0.7,
             "#b8e186"
            ],
            [
             0.8,
             "#7fbc41"
            ],
            [
             0.9,
             "#4d9221"
            ],
            [
             1,
             "#276419"
            ]
           ],
           "sequential": [
            [
             0,
             "#0d0887"
            ],
            [
             0.1111111111111111,
             "#46039f"
            ],
            [
             0.2222222222222222,
             "#7201a8"
            ],
            [
             0.3333333333333333,
             "#9c179e"
            ],
            [
             0.4444444444444444,
             "#bd3786"
            ],
            [
             0.5555555555555556,
             "#d8576b"
            ],
            [
             0.6666666666666666,
             "#ed7953"
            ],
            [
             0.7777777777777778,
             "#fb9f3a"
            ],
            [
             0.8888888888888888,
             "#fdca26"
            ],
            [
             1,
             "#f0f921"
            ]
           ],
           "sequentialminus": [
            [
             0,
             "#0d0887"
            ],
            [
             0.1111111111111111,
             "#46039f"
            ],
            [
             0.2222222222222222,
             "#7201a8"
            ],
            [
             0.3333333333333333,
             "#9c179e"
            ],
            [
             0.4444444444444444,
             "#bd3786"
            ],
            [
             0.5555555555555556,
             "#d8576b"
            ],
            [
             0.6666666666666666,
             "#ed7953"
            ],
            [
             0.7777777777777778,
             "#fb9f3a"
            ],
            [
             0.8888888888888888,
             "#fdca26"
            ],
            [
             1,
             "#f0f921"
            ]
           ]
          },
          "colorway": [
           "#636efa",
           "#EF553B",
           "#00cc96",
           "#ab63fa",
           "#FFA15A",
           "#19d3f3",
           "#FF6692",
           "#B6E880",
           "#FF97FF",
           "#FECB52"
          ],
          "font": {
           "color": "#2a3f5f"
          },
          "geo": {
           "bgcolor": "white",
           "lakecolor": "white",
           "landcolor": "#E5ECF6",
           "showlakes": true,
           "showland": true,
           "subunitcolor": "white"
          },
          "hoverlabel": {
           "align": "left"
          },
          "hovermode": "closest",
          "mapbox": {
           "style": "light"
          },
          "paper_bgcolor": "white",
          "plot_bgcolor": "#E5ECF6",
          "polar": {
           "angularaxis": {
            "gridcolor": "white",
            "linecolor": "white",
            "ticks": ""
           },
           "bgcolor": "#E5ECF6",
           "radialaxis": {
            "gridcolor": "white",
            "linecolor": "white",
            "ticks": ""
           }
          },
          "scene": {
           "xaxis": {
            "backgroundcolor": "#E5ECF6",
            "gridcolor": "white",
            "gridwidth": 2,
            "linecolor": "white",
            "showbackground": true,
            "ticks": "",
            "zerolinecolor": "white"
           },
           "yaxis": {
            "backgroundcolor": "#E5ECF6",
            "gridcolor": "white",
            "gridwidth": 2,
            "linecolor": "white",
            "showbackground": true,
            "ticks": "",
            "zerolinecolor": "white"
           },
           "zaxis": {
            "backgroundcolor": "#E5ECF6",
            "gridcolor": "white",
            "gridwidth": 2,
            "linecolor": "white",
            "showbackground": true,
            "ticks": "",
            "zerolinecolor": "white"
           }
          },
          "shapedefaults": {
           "line": {
            "color": "#2a3f5f"
           }
          },
          "ternary": {
           "aaxis": {
            "gridcolor": "white",
            "linecolor": "white",
            "ticks": ""
           },
           "baxis": {
            "gridcolor": "white",
            "linecolor": "white",
            "ticks": ""
           },
           "bgcolor": "#E5ECF6",
           "caxis": {
            "gridcolor": "white",
            "linecolor": "white",
            "ticks": ""
           }
          },
          "title": {
           "x": 0.05
          },
          "xaxis": {
           "automargin": true,
           "gridcolor": "white",
           "linecolor": "white",
           "ticks": "",
           "title": {
            "standoff": 15
           },
           "zerolinecolor": "white",
           "zerolinewidth": 2
          },
          "yaxis": {
           "automargin": true,
           "gridcolor": "white",
           "linecolor": "white",
           "ticks": "",
           "title": {
            "standoff": 15
           },
           "zerolinecolor": "white",
           "zerolinewidth": 2
          }
         }
        },
        "xaxis": {
         "anchor": "y",
         "domain": [
          0,
          1
         ],
         "title": {
          "text": "capacity_multiplier"
         }
        },
        "yaxis": {
         "anchor": "x",
         "domain": [
          0,
          1
         ],
         "title": {
          "text": "Nodes Processed"
         }
        }
       }
      }
     },
     "metadata": {},
     "output_type": "display_data"
    }
   ],
   "source": [
    "px.box(df_formulacao1, y=\"Nodes Processed\", color=\"amount_of_end_products\", x=\"capacity_multiplier\")"
   ]
  },
  {
   "cell_type": "code",
   "execution_count": null,
   "metadata": {},
   "outputs": [],
   "source": []
  }
 ],
 "metadata": {
  "kernelspec": {
   "display_name": "phd2",
   "language": "python",
   "name": "python3"
  },
  "language_info": {
   "codemirror_mode": {
    "name": "ipython",
    "version": 3
   },
   "file_extension": ".py",
   "mimetype": "text/x-python",
   "name": "python",
   "nbconvert_exporter": "python",
   "pygments_lexer": "ipython3",
   "version": "3.10.13"
  }
 },
 "nbformat": 4,
 "nbformat_minor": 2
}
